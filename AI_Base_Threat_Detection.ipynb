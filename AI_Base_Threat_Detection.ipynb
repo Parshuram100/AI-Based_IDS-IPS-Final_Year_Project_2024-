{
 "cells": [
  {
   "cell_type": "code",
   "execution_count": 2,
   "id": "ea97b1e4-d607-40ee-b025-e0291ed1c220",
   "metadata": {},
   "outputs": [],
   "source": [
    "import numpy as np\n",
    "import pandas as pd\n",
    "import os\n",
    "import matplotlib.pyplot as plt\n",
    "import seaborn as sns\n",
    "from sklearn.preprocessing import StandardScaler\n",
    "from sklearn.model_selection import train_test_split\n",
    "from sklearn.metrics import classification_report, confusion_matrix, accuracy_score, precision_recall_fscore_support, f1_score\n",
    "from sklearn.ensemble import RandomForestClassifier, ExtraTreesClassifier\n",
    "from sklearn.tree import DecisionTreeClassifier\n",
    "from collections import Counter\n",
    "import xgboost as xgb\n",
    "from xgboost import plot_importance\n",
    "import time\n",
    "import warnings\n",
    "warnings.filterwarnings(\"ignore\")"
   ]
  },
  {
   "cell_type": "code",
   "execution_count": 3,
   "id": "44ac9ce1-4c02-4ceb-85a4-cd8c82f1889f",
   "metadata": {},
   "outputs": [
    {
     "name": "stdout",
     "output_type": "stream",
     "text": [
      "Start Data Processing\n",
      "The table has 2830743 rows and 79 columns\n"
     ]
    }
   ],
   "source": [
    "# Loading the dataset\n",
    "print(\"Start Data Processing\")\n",
    "df1 = pd.read_csv('Datasets/Monday-WorkingHours.pcap_ISCX.csv')\n",
    "df2 = pd.read_csv('Datasets/Tuesday-WorkingHours.pcap_ISCX.csv')\n",
    "df3 = pd.read_csv('Datasets/Wednesday-workingHours.pcap_ISCX.csv')\n",
    "df4 = pd.read_csv('Datasets/Thursday-WorkingHours-Morning-WebAttacks.pcap_ISCX.csv')\n",
    "df5 = pd.read_csv('Datasets/Thursday-WorkingHours-Afternoon-Infilteration.pcap_ISCX.csv')\n",
    "df6 = pd.read_csv('Datasets/Friday-WorkingHours-Morning.pcap_ISCX.csv')\n",
    "df7 = pd.read_csv('Datasets/Friday-WorkingHours-Afternoon-PortScan.pcap_ISCX.csv')\n",
    "df8 = pd.read_csv('Datasets/Friday-WorkingHours-Afternoon-DDos.pcap_ISCX.csv')\n",
    "\n",
    "df = pd.concat([df1,df2])\n",
    "del df1,df2\n",
    "df = pd.concat([df,df3])\n",
    "del df3\n",
    "df = pd.concat([df,df4])\n",
    "del df4\n",
    "df = pd.concat([df,df5])\n",
    "del df5\n",
    "df = pd.concat([df,df6])\n",
    "del df6\n",
    "df = pd.concat([df,df7])\n",
    "del df7\n",
    "df = pd.concat([df,df8])\n",
    "del df8\n",
    "\n",
    "df.columns = df.columns.str.strip()\n",
    "nRow, nCol = df.shape\n",
    "print(f'The table has {nRow} rows and {nCol} columns')"
   ]
  },
  {
   "cell_type": "code",
   "execution_count": 5,
   "id": "b9a57503-a57a-42cf-b0e6-bfa0cc30122d",
   "metadata": {},
   "outputs": [],
   "source": [
    "# Renaming the columns by removing leading/trailing whitespace\n",
    "col_names = {col: col.strip() for col in df.columns}\n",
    "df.rename(columns = col_names, inplace = True) "
   ]
  },
  {
   "cell_type": "code",
   "execution_count": 7,
   "id": "a58daf84-0e39-4dc1-be36-f02abd547200",
   "metadata": {},
   "outputs": [
    {
     "data": {
      "text/plain": [
       "Index(['Destination Port', 'Flow Duration', 'Total Fwd Packets',\n",
       "       'Total Backward Packets', 'Total Length of Fwd Packets',\n",
       "       'Total Length of Bwd Packets', 'Fwd Packet Length Max',\n",
       "       'Fwd Packet Length Min', 'Fwd Packet Length Mean',\n",
       "       'Fwd Packet Length Std', 'Bwd Packet Length Max',\n",
       "       'Bwd Packet Length Min', 'Bwd Packet Length Mean',\n",
       "       'Bwd Packet Length Std', 'Flow Bytes/s', 'Flow Packets/s',\n",
       "       'Flow IAT Mean', 'Flow IAT Std', 'Flow IAT Max', 'Flow IAT Min',\n",
       "       'Fwd IAT Total', 'Fwd IAT Mean', 'Fwd IAT Std', 'Fwd IAT Max',\n",
       "       'Fwd IAT Min', 'Bwd IAT Total', 'Bwd IAT Mean', 'Bwd IAT Std',\n",
       "       'Bwd IAT Max', 'Bwd IAT Min', 'Fwd PSH Flags', 'Bwd PSH Flags',\n",
       "       'Fwd URG Flags', 'Bwd URG Flags', 'Fwd Header Length',\n",
       "       'Bwd Header Length', 'Fwd Packets/s', 'Bwd Packets/s',\n",
       "       'Min Packet Length', 'Max Packet Length', 'Packet Length Mean',\n",
       "       'Packet Length Std', 'Packet Length Variance', 'FIN Flag Count',\n",
       "       'SYN Flag Count', 'RST Flag Count', 'PSH Flag Count', 'ACK Flag Count',\n",
       "       'URG Flag Count', 'CWE Flag Count', 'ECE Flag Count', 'Down/Up Ratio',\n",
       "       'Average Packet Size', 'Avg Fwd Segment Size', 'Avg Bwd Segment Size',\n",
       "       'Fwd Header Length.1', 'Fwd Avg Bytes/Bulk', 'Fwd Avg Packets/Bulk',\n",
       "       'Fwd Avg Bulk Rate', 'Bwd Avg Bytes/Bulk', 'Bwd Avg Packets/Bulk',\n",
       "       'Bwd Avg Bulk Rate', 'Subflow Fwd Packets', 'Subflow Fwd Bytes',\n",
       "       'Subflow Bwd Packets', 'Subflow Bwd Bytes', 'Init_Win_bytes_forward',\n",
       "       'Init_Win_bytes_backward', 'act_data_pkt_fwd', 'min_seg_size_forward',\n",
       "       'Active Mean', 'Active Std', 'Active Max', 'Active Min', 'Idle Mean',\n",
       "       'Idle Std', 'Idle Max', 'Idle Min', 'Label'],\n",
       "      dtype='object')"
      ]
     },
     "execution_count": 7,
     "metadata": {},
     "output_type": "execute_result"
    }
   ],
   "source": [
    "df.columns"
   ]
  },
  {
   "cell_type": "code",
   "execution_count": 9,
   "id": "29cdbf88-dd95-4866-a67a-c63f6eba3ff2",
   "metadata": {},
   "outputs": [
    {
     "name": "stdout",
     "output_type": "stream",
     "text": [
      "<class 'pandas.core.frame.DataFrame'>\n",
      "Index: 2830743 entries, 0 to 225744\n",
      "Data columns (total 79 columns):\n",
      " #   Column                       Dtype  \n",
      "---  ------                       -----  \n",
      " 0   Destination Port             int64  \n",
      " 1   Flow Duration                int64  \n",
      " 2   Total Fwd Packets            int64  \n",
      " 3   Total Backward Packets       int64  \n",
      " 4   Total Length of Fwd Packets  int64  \n",
      " 5   Total Length of Bwd Packets  int64  \n",
      " 6   Fwd Packet Length Max        int64  \n",
      " 7   Fwd Packet Length Min        int64  \n",
      " 8   Fwd Packet Length Mean       float64\n",
      " 9   Fwd Packet Length Std        float64\n",
      " 10  Bwd Packet Length Max        int64  \n",
      " 11  Bwd Packet Length Min        int64  \n",
      " 12  Bwd Packet Length Mean       float64\n",
      " 13  Bwd Packet Length Std        float64\n",
      " 14  Flow Bytes/s                 float64\n",
      " 15  Flow Packets/s               float64\n",
      " 16  Flow IAT Mean                float64\n",
      " 17  Flow IAT Std                 float64\n",
      " 18  Flow IAT Max                 int64  \n",
      " 19  Flow IAT Min                 int64  \n",
      " 20  Fwd IAT Total                int64  \n",
      " 21  Fwd IAT Mean                 float64\n",
      " 22  Fwd IAT Std                  float64\n",
      " 23  Fwd IAT Max                  int64  \n",
      " 24  Fwd IAT Min                  int64  \n",
      " 25  Bwd IAT Total                int64  \n",
      " 26  Bwd IAT Mean                 float64\n",
      " 27  Bwd IAT Std                  float64\n",
      " 28  Bwd IAT Max                  int64  \n",
      " 29  Bwd IAT Min                  int64  \n",
      " 30  Fwd PSH Flags                int64  \n",
      " 31  Bwd PSH Flags                int64  \n",
      " 32  Fwd URG Flags                int64  \n",
      " 33  Bwd URG Flags                int64  \n",
      " 34  Fwd Header Length            int64  \n",
      " 35  Bwd Header Length            int64  \n",
      " 36  Fwd Packets/s                float64\n",
      " 37  Bwd Packets/s                float64\n",
      " 38  Min Packet Length            int64  \n",
      " 39  Max Packet Length            int64  \n",
      " 40  Packet Length Mean           float64\n",
      " 41  Packet Length Std            float64\n",
      " 42  Packet Length Variance       float64\n",
      " 43  FIN Flag Count               int64  \n",
      " 44  SYN Flag Count               int64  \n",
      " 45  RST Flag Count               int64  \n",
      " 46  PSH Flag Count               int64  \n",
      " 47  ACK Flag Count               int64  \n",
      " 48  URG Flag Count               int64  \n",
      " 49  CWE Flag Count               int64  \n",
      " 50  ECE Flag Count               int64  \n",
      " 51  Down/Up Ratio                int64  \n",
      " 52  Average Packet Size          float64\n",
      " 53  Avg Fwd Segment Size         float64\n",
      " 54  Avg Bwd Segment Size         float64\n",
      " 55  Fwd Header Length.1          int64  \n",
      " 56  Fwd Avg Bytes/Bulk           int64  \n",
      " 57  Fwd Avg Packets/Bulk         int64  \n",
      " 58  Fwd Avg Bulk Rate            int64  \n",
      " 59  Bwd Avg Bytes/Bulk           int64  \n",
      " 60  Bwd Avg Packets/Bulk         int64  \n",
      " 61  Bwd Avg Bulk Rate            int64  \n",
      " 62  Subflow Fwd Packets          int64  \n",
      " 63  Subflow Fwd Bytes            int64  \n",
      " 64  Subflow Bwd Packets          int64  \n",
      " 65  Subflow Bwd Bytes            int64  \n",
      " 66  Init_Win_bytes_forward       int64  \n",
      " 67  Init_Win_bytes_backward      int64  \n",
      " 68  act_data_pkt_fwd             int64  \n",
      " 69  min_seg_size_forward         int64  \n",
      " 70  Active Mean                  float64\n",
      " 71  Active Std                   float64\n",
      " 72  Active Max                   int64  \n",
      " 73  Active Min                   int64  \n",
      " 74  Idle Mean                    float64\n",
      " 75  Idle Std                     float64\n",
      " 76  Idle Max                     int64  \n",
      " 77  Idle Min                     int64  \n",
      " 78  Label                        object \n",
      "dtypes: float64(24), int64(54), object(1)\n",
      "memory usage: 1.7+ GB\n"
     ]
    }
   ],
   "source": [
    "df.info()"
   ]
  },
  {
   "cell_type": "code",
   "execution_count": 11,
   "id": "92d79125-661f-46d4-84e9-73ae9fab56d4",
   "metadata": {},
   "outputs": [
    {
     "name": "stdout",
     "output_type": "stream",
     "text": [
      "Initial memory usage: 1727.75 MB\n",
      "Final memory usage: 928.66 MB\n"
     ]
    }
   ],
   "source": [
    "# Optimizing memory usage for the dataset 'df'\n",
    "old_memory_usage = df.memory_usage().sum() / 1024 ** 2\n",
    "print(f'Initial memory usage: {old_memory_usage:.2f} MB')\n",
    "\n",
    "# Loop through each column for downcasting\n",
    "for col in df.columns:\n",
    "    col_type = df[col].dtype\n",
    "    if col_type != object:  # Skip object/string columns\n",
    "        c_min = df[col].min()\n",
    "        c_max = df[col].max()\n",
    "        \n",
    "        # Downcasting float64 to float32\n",
    "        if str(col_type).find('float') >= 0 and c_min > np.finfo(np.float32).min and c_max < np.finfo(np.float32).max:\n",
    "            df[col] = df[col].astype(np.float32)\n",
    "        \n",
    "        # Downcasting int64 to int32\n",
    "        elif str(col_type).find('int') >= 0 and c_min > np.iinfo(np.int32).min and c_max < np.iinfo(np.int32).max:\n",
    "            df[col] = df[col].astype(np.int32)\n",
    "\n",
    "new_memory_usage = df.memory_usage().sum() / 1024 ** 2\n",
    "print(f'Final memory usage: {new_memory_usage:.2f} MB')\n"
   ]
  },
  {
   "cell_type": "code",
   "execution_count": 17,
   "id": "82f6cd2e-617a-417b-b811-26a7d4fe7ff9",
   "metadata": {},
   "outputs": [
    {
     "name": "stdout",
     "output_type": "stream",
     "text": [
      "Reduced memory usage: 46.25%\n"
     ]
    }
   ],
   "source": [
    "# Calculating percentage reduction in memory usage\n",
    "print(f'Reduced memory usage: {1 - (new_memory_usage / old_memory_usage):.2%}')"
   ]
  },
  {
   "cell_type": "code",
   "execution_count": 18,
   "id": "bb80041e-2a3d-48c5-8bc4-5f237c2da6cd",
   "metadata": {},
   "outputs": [
    {
     "name": "stdout",
     "output_type": "stream",
     "text": [
      "<class 'pandas.core.frame.DataFrame'>\n",
      "Index: 2521788 entries, 0 to 225744\n",
      "Data columns (total 79 columns):\n",
      " #   Column                       Dtype  \n",
      "---  ------                       -----  \n",
      " 0   Destination Port             int32  \n",
      " 1   Flow Duration                int32  \n",
      " 2   Total Fwd Packets            int32  \n",
      " 3   Total Backward Packets       int32  \n",
      " 4   Total Length of Fwd Packets  int32  \n",
      " 5   Total Length of Bwd Packets  int32  \n",
      " 6   Fwd Packet Length Max        int32  \n",
      " 7   Fwd Packet Length Min        int32  \n",
      " 8   Fwd Packet Length Mean       float32\n",
      " 9   Fwd Packet Length Std        float32\n",
      " 10  Bwd Packet Length Max        int32  \n",
      " 11  Bwd Packet Length Min        int32  \n",
      " 12  Bwd Packet Length Mean       float32\n",
      " 13  Bwd Packet Length Std        float32\n",
      " 14  Flow Bytes/s                 float64\n",
      " 15  Flow Packets/s               float64\n",
      " 16  Flow IAT Mean                float32\n",
      " 17  Flow IAT Std                 float32\n",
      " 18  Flow IAT Max                 int32  \n",
      " 19  Flow IAT Min                 int32  \n",
      " 20  Fwd IAT Total                int32  \n",
      " 21  Fwd IAT Mean                 float32\n",
      " 22  Fwd IAT Std                  float32\n",
      " 23  Fwd IAT Max                  int32  \n",
      " 24  Fwd IAT Min                  int32  \n",
      " 25  Bwd IAT Total                int32  \n",
      " 26  Bwd IAT Mean                 float32\n",
      " 27  Bwd IAT Std                  float32\n",
      " 28  Bwd IAT Max                  int32  \n",
      " 29  Bwd IAT Min                  int32  \n",
      " 30  Fwd PSH Flags                int32  \n",
      " 31  Bwd PSH Flags                int32  \n",
      " 32  Fwd URG Flags                int32  \n",
      " 33  Bwd URG Flags                int32  \n",
      " 34  Fwd Header Length            int64  \n",
      " 35  Bwd Header Length            int32  \n",
      " 36  Fwd Packets/s                float32\n",
      " 37  Bwd Packets/s                float32\n",
      " 38  Min Packet Length            int32  \n",
      " 39  Max Packet Length            int32  \n",
      " 40  Packet Length Mean           float32\n",
      " 41  Packet Length Std            float32\n",
      " 42  Packet Length Variance       float32\n",
      " 43  FIN Flag Count               int32  \n",
      " 44  SYN Flag Count               int32  \n",
      " 45  RST Flag Count               int32  \n",
      " 46  PSH Flag Count               int32  \n",
      " 47  ACK Flag Count               int32  \n",
      " 48  URG Flag Count               int32  \n",
      " 49  CWE Flag Count               int32  \n",
      " 50  ECE Flag Count               int32  \n",
      " 51  Down/Up Ratio                int32  \n",
      " 52  Average Packet Size          float32\n",
      " 53  Avg Fwd Segment Size         float32\n",
      " 54  Avg Bwd Segment Size         float32\n",
      " 55  Fwd Header Length.1          int64  \n",
      " 56  Fwd Avg Bytes/Bulk           int32  \n",
      " 57  Fwd Avg Packets/Bulk         int32  \n",
      " 58  Fwd Avg Bulk Rate            int32  \n",
      " 59  Bwd Avg Bytes/Bulk           int32  \n",
      " 60  Bwd Avg Packets/Bulk         int32  \n",
      " 61  Bwd Avg Bulk Rate            int32  \n",
      " 62  Subflow Fwd Packets          int32  \n",
      " 63  Subflow Fwd Bytes            int32  \n",
      " 64  Subflow Bwd Packets          int32  \n",
      " 65  Subflow Bwd Bytes            int32  \n",
      " 66  Init_Win_bytes_forward       int32  \n",
      " 67  Init_Win_bytes_backward      int32  \n",
      " 68  act_data_pkt_fwd             int32  \n",
      " 69  min_seg_size_forward         int32  \n",
      " 70  Active Mean                  float32\n",
      " 71  Active Std                   float32\n",
      " 72  Active Max                   int32  \n",
      " 73  Active Min                   int32  \n",
      " 74  Idle Mean                    float32\n",
      " 75  Idle Std                     float32\n",
      " 76  Idle Max                     int32  \n",
      " 77  Idle Min                     int32  \n",
      " 78  Label                        object \n",
      "dtypes: float32(22), float64(2), int32(52), int64(2), object(1)\n",
      "memory usage: 827.3+ MB\n"
     ]
    }
   ],
   "source": [
    "df.info()"
   ]
  },
  {
   "cell_type": "markdown",
   "id": "b744ffb2-f70b-4f21-9e83-3dc8b6196028",
   "metadata": {},
   "source": [
    "### Handeling Dublicate values "
   ]
  },
  {
   "cell_type": "code",
   "execution_count": 13,
   "id": "d1aa229d-ae9d-4ca6-b13c-796bd95c7fbd",
   "metadata": {},
   "outputs": [
    {
     "name": "stdout",
     "output_type": "stream",
     "text": [
      "Number of duplicates: 308955\n"
     ]
    }
   ],
   "source": [
    "dups = df[df.duplicated()]\n",
    "print(f'Number of duplicates: {len(dups)}')"
   ]
  },
  {
   "cell_type": "code",
   "execution_count": 15,
   "id": "bc9bf91c-3f89-44fe-9530-dda769904a05",
   "metadata": {},
   "outputs": [
    {
     "data": {
      "text/plain": [
       "(2521788, 79)"
      ]
     },
     "execution_count": 15,
     "metadata": {},
     "output_type": "execute_result"
    }
   ],
   "source": [
    "df.drop_duplicates(inplace = True)\n",
    "df.shape"
   ]
  },
  {
   "cell_type": "markdown",
   "id": "0bd35aee-08ab-4e07-bf97-e0c59760cfb3",
   "metadata": {},
   "source": [
    "### Handeling Missing Values "
   ]
  },
  {
   "cell_type": "code",
   "execution_count": 16,
   "id": "a6801756-24e4-4896-b0f9-ed5a540c655f",
   "metadata": {},
   "outputs": [
    {
     "name": "stdout",
     "output_type": "stream",
     "text": [
      "Flow Bytes/s    353\n",
      "dtype: int64\n"
     ]
    }
   ],
   "source": [
    "missing_val = df.isna().sum()\n",
    "print(missing_val.loc[missing_val > 0])"
   ]
  },
  {
   "cell_type": "code",
   "execution_count": 20,
   "id": "2556da6e-605c-4058-b84b-2ad144a9e9b7",
   "metadata": {},
   "outputs": [
    {
     "name": "stdout",
     "output_type": "stream",
     "text": [
      "Flow Bytes/s      1210\n",
      "Flow Packets/s    1563\n",
      "dtype: int64\n"
     ]
    }
   ],
   "source": [
    "# Checking for infinity values\n",
    "numeric_cols = df.select_dtypes(include = np.number).columns\n",
    "inf_count = np.isinf(df[numeric_cols]).sum()\n",
    "print(inf_count[inf_count > 0])"
   ]
  },
  {
   "cell_type": "code",
   "execution_count": 22,
   "id": "ba1d4003-4d3d-40ea-b9d5-5983ec940f04",
   "metadata": {},
   "outputs": [
    {
     "name": "stdout",
     "output_type": "stream",
     "text": [
      "Initial missing values: 353\n",
      "Missing values after processing infinite values: 3126\n"
     ]
    }
   ],
   "source": [
    "# Replacing any infinite values (positive or negative) with NaN (not a number)\n",
    "print(f'Initial missing values: {df.isna().sum().sum()}')\n",
    "\n",
    "df.replace([np.inf, -np.inf], np.nan, inplace = True)\n",
    "\n",
    "print(f'Missing values after processing infinite values: {df.isna().sum().sum()}')"
   ]
  },
  {
   "cell_type": "code",
   "execution_count": 24,
   "id": "9872f53a-c082-4b05-a2fc-ce99bb3c9d85",
   "metadata": {},
   "outputs": [
    {
     "name": "stdout",
     "output_type": "stream",
     "text": [
      "Flow Bytes/s      1563\n",
      "Flow Packets/s    1563\n",
      "dtype: int64\n"
     ]
    }
   ],
   "source": [
    "missing = df.isna().sum()\n",
    "print(missing.loc[missing > 0])"
   ]
  },
  {
   "cell_type": "code",
   "execution_count": 26,
   "id": "535d5a7c-2057-4c05-9876-5036e8a9823c",
   "metadata": {},
   "outputs": [
    {
     "name": "stdout",
     "output_type": "stream",
     "text": [
      "                Missing Values  Percentage of Total Values\n",
      "Flow Bytes/s              1563                        0.06\n",
      "Flow Packets/s            1563                        0.06\n"
     ]
    }
   ],
   "source": [
    "# Calculating missing value percentage in the dataset\n",
    "mis_per = (missing / len(df)) * 100\n",
    "mis_table = pd.concat([missing, mis_per.round(2)], axis = 1)\n",
    "mis_table = mis_table.rename(columns = {0 : 'Missing Values', 1 : 'Percentage of Total Values'})\n",
    "\n",
    "print(mis_table.loc[mis_per > 0])"
   ]
  },
  {
   "cell_type": "code",
   "execution_count": 30,
   "id": "6dd3dc22-04c7-439d-874b-61790e8d8922",
   "metadata": {},
   "outputs": [
    {
     "name": "stdout",
     "output_type": "stream",
     "text": [
      "Median of Flow Bytes/s:  3711.813158\n",
      "Median of Flow Packets/s:  69.63157931\n"
     ]
    }
   ],
   "source": [
    "med_flow_bytes = df['Flow Bytes/s'].median()\n",
    "med_flow_packets = df['Flow Packets/s'].median()\n",
    "\n",
    "print('Median of Flow Bytes/s: ', med_flow_bytes)\n",
    "print('Median of Flow Packets/s: ', med_flow_packets)"
   ]
  },
  {
   "cell_type": "code",
   "execution_count": 32,
   "id": "69c1c64f-74dd-4f6a-ad93-46ded8920dc8",
   "metadata": {},
   "outputs": [],
   "source": [
    "# Filling missing values with median\n",
    "df['Flow Bytes/s'].fillna(med_flow_bytes, inplace = True)\n",
    "df['Flow Packets/s'].fillna(med_flow_packets, inplace = True)"
   ]
  },
  {
   "cell_type": "code",
   "execution_count": 34,
   "id": "ff0d6cbd-a0e0-4df5-8201-d4a55910767c",
   "metadata": {},
   "outputs": [
    {
     "name": "stdout",
     "output_type": "stream",
     "text": [
      "Number of 'Flow Bytes/s' missing values: 0\n",
      "Number of 'Flow Packets/s' missing values: 0\n"
     ]
    }
   ],
   "source": [
    "print('Number of \\'Flow Bytes/s\\' missing values:', df['Flow Bytes/s'].isna().sum())\n",
    "print('Number of \\'Flow Packets/s\\' missing values:', df['Flow Packets/s'].isna().sum())"
   ]
  },
  {
   "cell_type": "code",
   "execution_count": 36,
   "id": "3cc8264f-0fc3-4237-85cd-f4f0d0117a29",
   "metadata": {},
   "outputs": [
    {
     "data": {
      "text/plain": [
       "array(['BENIGN', 'FTP-Patator', 'SSH-Patator', 'DoS slowloris',\n",
       "       'DoS Slowhttptest', 'DoS Hulk', 'DoS GoldenEye', 'Heartbleed',\n",
       "       'Web Attack � Brute Force', 'Web Attack � XSS',\n",
       "       'Web Attack � Sql Injection', 'Infiltration', 'Bot', 'PortScan',\n",
       "       'DDoS'], dtype=object)"
      ]
     },
     "execution_count": 36,
     "metadata": {},
     "output_type": "execute_result"
    }
   ],
   "source": [
    "df['Label'].unique()"
   ]
  },
  {
   "cell_type": "code",
   "execution_count": 37,
   "id": "079abd9a-ecd0-4262-b482-7aafed88405c",
   "metadata": {},
   "outputs": [
    {
     "data": {
      "text/plain": [
       "Label\n",
       "BENIGN                        2095910\n",
       "DoS Hulk                       172849\n",
       "DDoS                           128016\n",
       "PortScan                        90819\n",
       "DoS GoldenEye                   10286\n",
       "FTP-Patator                      5933\n",
       "DoS slowloris                    5385\n",
       "DoS Slowhttptest                 5228\n",
       "SSH-Patator                      3219\n",
       "Bot                              1953\n",
       "Web Attack � Brute Force         1470\n",
       "Web Attack � XSS                  652\n",
       "Infiltration                       36\n",
       "Web Attack � Sql Injection         21\n",
       "Heartbleed                         11\n",
       "Name: count, dtype: int64"
      ]
     },
     "execution_count": 37,
     "metadata": {},
     "output_type": "execute_result"
    }
   ],
   "source": [
    "df.Label.value_counts()"
   ]
  },
  {
   "cell_type": "code",
   "execution_count": 38,
   "id": "a7a6435d-371e-4159-a537-f54990b7ae67",
   "metadata": {},
   "outputs": [],
   "source": [
    "label_mapping = {\n",
    "    'BENIGN': 'Normal',\n",
    "    'Bot': 'Botnet',\n",
    "    'FTP-Patator': 'Brute Force',\n",
    "    'SSH-Patator': 'Brute Force',\n",
    "    'DoS Hulk': 'DoS/DDoS',\n",
    "    'DoS GoldenEye': 'DoS/DDoS',\n",
    "    'DoS slowloris': 'DoS/DDoS',\n",
    "    'DoS Slowhttptest': 'DoS/DDoS',\n",
    "    'DDoS': 'DoS/DDoS',\n",
    "    'Heartbleed': 'DoS/DDoS',\n",
    "    'Infiltration': 'Infiltration',\n",
    "    'PortScan': 'Port Scan',\n",
    "    'Web Attack � Brute Force': 'Web Attack',\n",
    "    'Web Attack � XSS': 'Web Attack',\n",
    "    'Web Attack � Sql Injection': 'Web Attack'\n",
    "}\n",
    "\n",
    "df['Label'] = df['Label'].map(label_mapping)"
   ]
  },
  {
   "cell_type": "code",
   "execution_count": 39,
   "id": "16bd24e4-51f1-4113-bae1-11e17ee90005",
   "metadata": {},
   "outputs": [
    {
     "data": {
      "text/plain": [
       "Label\n",
       "Normal          2095910\n",
       "DoS/DDoS         321775\n",
       "Port Scan         90819\n",
       "Brute Force        9152\n",
       "Web Attack         2143\n",
       "Botnet             1953\n",
       "Infiltration         36\n",
       "Name: count, dtype: int64"
      ]
     },
     "execution_count": 39,
     "metadata": {},
     "output_type": "execute_result"
    }
   ],
   "source": [
    "#df.to_csv('CICIDS2017_relabled.csv', index=False)\n",
    "df.Label.value_counts()"
   ]
  },
  {
   "cell_type": "markdown",
   "id": "6e22097e-4583-4f9d-8815-7e6dd6dfd985",
   "metadata": {},
   "source": [
    "## Random sampling"
   ]
  },
  {
   "cell_type": "code",
   "execution_count": 48,
   "id": "7dc4df5c-4906-46f5-82f6-e5fadf360e93",
   "metadata": {},
   "outputs": [
    {
     "name": "stdout",
     "output_type": "stream",
     "text": [
      "Label\n",
      "Web Attack     2143\n",
      "Port Scan      2136\n",
      "Normal         2125\n",
      "Brute Force    2075\n",
      "DoS/DDoS       2063\n",
      "Botnet         1953\n",
      "Name: count, dtype: int64\n"
     ]
    }
   ],
   "source": [
    "from sklearn.utils import resample\n",
    "\n",
    "# Remove class 'Infiltration'\n",
    "df = df[df['Label'] != 'Infiltration']\n",
    "\n",
    "# Define the sample size range for each class\n",
    "min_samples = 2000\n",
    "max_samples = 2200\n",
    "\n",
    "# Function to randomly sample within the range [min_samples, max_samples]\n",
    "def random_sample_class(df, label, min_samples, max_samples):\n",
    "    n_samples = np.random.randint(min_samples, max_samples + 1)\n",
    "    return resample(df[df['Label'] == label], n_samples=n_samples, random_state=42)\n",
    "\n",
    "# Define the labels to be resampled\n",
    "class_labels = ['Normal', 'DoS/DDoS', 'Port Scan', 'Brute Force']\n",
    "\n",
    "# Apply the random_sample_class function to each class\n",
    "resampled_dfs = [random_sample_class(df, label, min_samples, max_samples) for label in class_labels]\n",
    "df_resampled = pd.concat(resampled_dfs + [df[df['Label'] == label] for label in df['Label'].unique() if label not in class_labels])\n",
    "df = df_resampled\n",
    "\n",
    "print(df['Label'].value_counts())"
   ]
  },
  {
   "cell_type": "markdown",
   "id": "25af53e9-7ab1-4754-8212-3ee4a04b22ce",
   "metadata": {},
   "source": [
    "## Preprocessing (normalization and padding values)¶"
   ]
  },
  {
   "cell_type": "code",
   "execution_count": 49,
   "id": "8a630968-67b2-4545-b406-8aff0a80226b",
   "metadata": {},
   "outputs": [],
   "source": [
    "# Min-max normalization\n",
    "numeric_features = df.dtypes[df.dtypes != 'object'].index\n",
    "df[numeric_features] = df[numeric_features].apply(\n",
    "    lambda x: (x - x.min()) / (x.max()-x.min()))\n",
    "# Fill empty values by 0\n",
    "df = df.fillna(0)"
   ]
  },
  {
   "cell_type": "markdown",
   "id": "e1614267-326b-4755-b4c0-23a61e811125",
   "metadata": {},
   "source": [
    "### split train set and test set"
   ]
  },
  {
   "cell_type": "code",
   "execution_count": 51,
   "id": "6e0aad12-b50d-4661-aca1-3e46138f9d65",
   "metadata": {},
   "outputs": [],
   "source": [
    "from sklearn.preprocessing import LabelEncoder\n",
    "labelencoder = LabelEncoder()\n",
    "df.iloc[:, -1] = labelencoder.fit_transform(df.iloc[:, -1])\n",
    "X = df.drop(['Label'],axis=1).values\n",
    "y = df.iloc[:, -1].values.reshape(-1,1)\n",
    "y=np.ravel(y)\n",
    "y = y.astype('int')\n",
    "X_train, X_test, y_train, y_test = train_test_split(X,y, train_size = 0.7, test_size = 0.3, random_state = 0,stratify = y)"
   ]
  },
  {
   "cell_type": "code",
   "execution_count": 52,
   "id": "09755ebf-27aa-4754-9ad0-d3d9470f6ba8",
   "metadata": {},
   "outputs": [
    {
     "data": {
      "text/plain": [
       "5    1500\n",
       "4    1495\n",
       "3    1487\n",
       "1    1453\n",
       "2    1444\n",
       "0    1367\n",
       "Name: count, dtype: int64"
      ]
     },
     "execution_count": 52,
     "metadata": {},
     "output_type": "execute_result"
    }
   ],
   "source": [
    "pd.Series(y_train).value_counts()"
   ]
  },
  {
   "cell_type": "markdown",
   "id": "b74cef5f-b49e-443c-912d-a3c82d6ae47c",
   "metadata": {},
   "source": [
    "### Machine learning model training¶\n",
    "### Training four base learners: decision tree, random forest, extra trees, XGBoost"
   ]
  },
  {
   "cell_type": "code",
   "execution_count": 53,
   "id": "8c2eda55-a63a-481d-8e36-b7b107559d8b",
   "metadata": {},
   "outputs": [
    {
     "name": "stdout",
     "output_type": "stream",
     "text": [
      "Accuracy of DT: 0.972259269138437\n",
      "Precision of DT: 0.9728758550288903\n",
      "Recall of DT: 0.972259269138437\n",
      "F1-score of DT: 0.9718871917573125\n",
      "Training time: 0.1035616397857666 s\n",
      "              precision    recall  f1-score   support\n",
      "\n",
      "           0       0.95      0.99      0.97       586\n",
      "           1       1.00      1.00      1.00       622\n",
      "           2       0.95      0.99      0.97       619\n",
      "           3       0.99      0.88      0.93       638\n",
      "           4       0.99      0.99      0.99       641\n",
      "           5       0.97      0.98      0.97       643\n",
      "\n",
      "    accuracy                           0.97      3749\n",
      "   macro avg       0.97      0.97      0.97      3749\n",
      "weighted avg       0.97      0.97      0.97      3749\n",
      "\n"
     ]
    },
    {
     "data": {
      "image/png": "[encoded data removed]",
      "text/plain": [
       "<Figure size 500x500 with 2 Axes>"
      ]
     },
     "metadata": {},
     "output_type": "display_data"
    }
   ],
   "source": [
    "# Decision tree training and prediction\n",
    "import time\n",
    "\n",
    "start_time = time.time() \n",
    "dt = DecisionTreeClassifier(criterion='gini', splitter= 'best', max_depth=5)\n",
    "dt.fit(X_train,y_train)\n",
    "training_time = time.time() - start_time\n",
    "\n",
    "dt_score=dt.score(X_test,y_test)\n",
    "y_predict=dt.predict(X_test)\n",
    "y_true=y_test\n",
    "print('Accuracy of DT: '+ str(dt_score))\n",
    "precision,recall,fscore,none= precision_recall_fscore_support(y_true, y_predict, average='weighted')\n",
    "print('Precision of DT: '+(str(precision)))\n",
    "print('Recall of DT: '+(str(recall)))\n",
    "print('F1-score of DT: '+(str(fscore)))\n",
    "print(\"Training time:\", training_time, \"s\") \n",
    "print(classification_report(y_true,y_predict))\n",
    "cm=confusion_matrix(y_true,y_predict)\n",
    "f,ax=plt.subplots(figsize=(5,5))\n",
    "sns.heatmap(cm,annot=True,linewidth=0.5,linecolor=\"red\",fmt=\".0f\",ax=ax)\n",
    "plt.xlabel(\"y_pred\")\n",
    "plt.ylabel(\"y_true\")\n",
    "plt.show()"
   ]
  },
  {
   "cell_type": "code",
   "execution_count": 54,
   "id": "edce4fe3-ca9e-43a2-82ec-49758a01ac90",
   "metadata": {},
   "outputs": [],
   "source": [
    "dt_train=dt.predict(X_train)\n",
    "dt_test=dt.predict(X_test)"
   ]
  },
  {
   "cell_type": "code",
   "execution_count": 68,
   "id": "80d6e9e4-fc35-4a6e-963a-5360d5cbbbdd",
   "metadata": {},
   "outputs": [
    {
     "name": "stdout",
     "output_type": "stream",
     "text": [
      "Model saved successfully.\n"
     ]
    }
   ],
   "source": [
    "import joblib\n",
    "\n",
    "# Assuming 'xgb_model' is your trained XGBoost model\n",
    "# Save the model to a file\n",
    "joblib.dump(dt, 'DT_model(A97%).pkl')\n",
    "\n",
    "print(\"Model saved successfully.\")\n"
   ]
  },
  {
   "cell_type": "markdown",
   "id": "815f89dc-7f19-4705-82d4-aecb633fcb4e",
   "metadata": {},
   "source": [
    "## Random Forest"
   ]
  },
  {
   "cell_type": "code",
   "execution_count": 64,
   "id": "08960d39-69a6-4662-b174-8ccee3bd036d",
   "metadata": {},
   "outputs": [
    {
     "name": "stdout",
     "output_type": "stream",
     "text": [
      "Accuracy of RF: 0.9701253667644705\n",
      "Precision of RF: 0.9713466447130459\n",
      "Recall of RF: 0.9701253667644705\n",
      "F1-score of RF: 0.970321682776748\n",
      "Training time: 0.855837345123291 s\n",
      "              precision    recall  f1-score   support\n",
      "\n",
      "           0       0.95      1.00      0.97       586\n",
      "           1       1.00      1.00      1.00       622\n",
      "           2       0.99      0.95      0.97       619\n",
      "           3       0.89      0.94      0.91       638\n",
      "           4       0.99      1.00      0.99       641\n",
      "           5       1.00      0.94      0.97       643\n",
      "\n",
      "    accuracy                           0.97      3749\n",
      "   macro avg       0.97      0.97      0.97      3749\n",
      "weighted avg       0.97      0.97      0.97      3749\n",
      "\n"
     ]
    },
    {
     "data": {
      "image/png": "[encoded data removed]",
      "text/plain": [
       "<Figure size 500x500 with 2 Axes>"
      ]
     },
     "metadata": {},
     "output_type": "display_data"
    }
   ],
   "source": [
    "start_time = time.time() \n",
    "\n",
    "# Random Forest training and prediction\n",
    "rf = RandomForestClassifier(n_estimators=100, criterion='gini', max_depth=5)\n",
    "rf.fit(X_train,y_train)\n",
    "training_time = time.time() - start_time\n",
    "\n",
    "rf_score=rf.score(X_test,y_test)\n",
    "y_predict=rf.predict(X_test)\n",
    "y_true=y_test\n",
    "print('Accuracy of RF: '+ str(rf_score))\n",
    "precision,recall,fscore,none= precision_recall_fscore_support(y_true, y_predict, average='weighted')\n",
    "print('Precision of RF: '+(str(precision)))\n",
    "print('Recall of RF: '+(str(recall)))\n",
    "print('F1-score of RF: '+(str(fscore)))\n",
    "print(\"Training time:\", training_time, \"s\") \n",
    "print(classification_report(y_true,y_predict))\n",
    "cm=confusion_matrix(y_true,y_predict)\n",
    "f,ax=plt.subplots(figsize=(5,5))\n",
    "sns.heatmap(cm,annot=True,linewidth=0.5,linecolor=\"red\",fmt=\".0f\",ax=ax)\n",
    "plt.xlabel(\"y_pred\")\n",
    "plt.ylabel(\"y_true\")\n",
    "plt.show()"
   ]
  },
  {
   "cell_type": "code",
   "execution_count": 56,
   "id": "baf96a11-8850-4762-8cb5-6a76c46b5009",
   "metadata": {},
   "outputs": [],
   "source": [
    "rf_train=rf.predict(X_train)\n",
    "rf_test=rf.predict(X_test)"
   ]
  },
  {
   "cell_type": "code",
   "execution_count": 65,
   "id": "012048da-fc2c-4c6d-81da-2abb628fad96",
   "metadata": {},
   "outputs": [
    {
     "name": "stdout",
     "output_type": "stream",
     "text": [
      "Model saved successfully.\n"
     ]
    }
   ],
   "source": [
    "import joblib\n",
    "\n",
    "# Assuming 'xgb_model' is your trained XGBoost model\n",
    "# Save the model to a file\n",
    "joblib.dump(rf, 'rf_model(A96%).pkl')\n",
    "\n",
    "print(\"Model saved successfully.\")\n"
   ]
  },
  {
   "cell_type": "code",
   "execution_count": 57,
   "id": "f90a8d70-2505-4a1f-942e-9fc1392b8876",
   "metadata": {},
   "outputs": [
    {
     "name": "stdout",
     "output_type": "stream",
     "text": [
      "Accuracy of ET: 0.9391837823419579\n",
      "Precision of ET: 0.9423005723007398\n",
      "Recall of ET: 0.9391837823419579\n",
      "F1-score of ET: 0.9395976676880661\n",
      "Training time: 0.43736934661865234 s\n",
      "              precision    recall  f1-score   support\n",
      "\n",
      "           0       0.94      1.00      0.97       586\n",
      "           1       0.95      0.96      0.95       622\n",
      "           2       1.00      0.90      0.95       619\n",
      "           3       0.82      0.89      0.85       638\n",
      "           4       0.97      1.00      0.98       641\n",
      "           5       0.99      0.90      0.94       643\n",
      "\n",
      "    accuracy                           0.94      3749\n",
      "   macro avg       0.94      0.94      0.94      3749\n",
      "weighted avg       0.94      0.94      0.94      3749\n",
      "\n"
     ]
    },
    {
     "data": {
      "image/png": "[encoded data removed]",
      "text/plain": [
       "<Figure size 500x500 with 2 Axes>"
      ]
     },
     "metadata": {},
     "output_type": "display_data"
    }
   ],
   "source": [
    "start_time = time.time() \n",
    "\n",
    "# Extra trees training and prediction\n",
    "et = ExtraTreesClassifier(max_depth=5)\n",
    "et.fit(X_train,y_train)\n",
    "training_time = time.time() - start_time\n",
    "\n",
    "et_score=et.score(X_test,y_test)\n",
    "y_predict=et.predict(X_test)\n",
    "y_true=y_test\n",
    "print('Accuracy of ET: '+ str(et_score))\n",
    "precision,recall,fscore,none= precision_recall_fscore_support(y_true, y_predict, average='weighted') \n",
    "print('Precision of ET: '+(str(precision)))\n",
    "print('Recall of ET: '+(str(recall)))\n",
    "print('F1-score of ET: '+(str(fscore)))\n",
    "print(\"Training time:\", training_time, \"s\") \n",
    "print(classification_report(y_true,y_predict))\n",
    "cm=confusion_matrix(y_true,y_predict)\n",
    "f,ax=plt.subplots(figsize=(5,5))\n",
    "sns.heatmap(cm,annot=True,linewidth=0.5,linecolor=\"red\",fmt=\".0f\",ax=ax)\n",
    "plt.xlabel(\"y_pred\")\n",
    "plt.ylabel(\"y_true\")\n",
    "plt.show()"
   ]
  },
  {
   "cell_type": "code",
   "execution_count": 58,
   "id": "a7570423-e86b-4bed-bd22-eb0087f7e8f6",
   "metadata": {},
   "outputs": [],
   "source": [
    "et_train=et.predict(X_train)\n",
    "et_test=et.predict(X_test)"
   ]
  },
  {
   "cell_type": "code",
   "execution_count": 59,
   "id": "50ba846a-bd5c-4803-91b7-c2603c554200",
   "metadata": {},
   "outputs": [
    {
     "name": "stdout",
     "output_type": "stream",
     "text": [
      "Accuracy of XGBoost: 0.9911976527073887\n",
      "Precision of XGBoost: 0.9912795066037003\n",
      "Recall of XGBoost: 0.9911976527073887\n",
      "F1-score of XGBoost: 0.9911317879465951\n",
      "Training time: 1.249743938446045 s\n",
      "              precision    recall  f1-score   support\n",
      "\n",
      "           0       0.98      1.00      0.99       586\n",
      "           1       1.00      1.00      1.00       622\n",
      "           2       0.99      1.00      0.99       619\n",
      "           3       1.00      0.95      0.97       638\n",
      "           4       0.99      1.00      0.99       641\n",
      "           5       1.00      1.00      1.00       643\n",
      "\n",
      "    accuracy                           0.99      3749\n",
      "   macro avg       0.99      0.99      0.99      3749\n",
      "weighted avg       0.99      0.99      0.99      3749\n",
      "\n"
     ]
    },
    {
     "data": {
      "image/png": "[encoded data removed]",
      "text/plain": [
       "<Figure size 500x500 with 2 Axes>"
      ]
     },
     "metadata": {},
     "output_type": "display_data"
    }
   ],
   "source": [
    "start_time = time.time() \n",
    "\n",
    "# XGBoost training and prediction\n",
    "xg = xgb.XGBClassifier(n_estimators=3)\n",
    "xg.fit(X_train, y_train)\n",
    "training_time = time.time() - start_time\n",
    "\n",
    "xg_score = xg.score(X_test, y_test)\n",
    "y_predict = xg.predict(X_test)\n",
    "y_true = y_test\n",
    "print('Accuracy of XGBoost: ' + str(xg_score))\n",
    "\n",
    "# Calculate precision, recall, and F1-score\n",
    "precision, recall, fscore, support = precision_recall_fscore_support(y_true, y_predict, average='weighted')\n",
    "print('Precision of XGBoost: ' + str(precision))\n",
    "print('Recall of XGBoost: ' + str(recall))\n",
    "print('F1-score of XGBoost: ' + str(fscore))\n",
    "print(\"Training time:\", training_time, \"s\") \n",
    "\n",
    "# Print classification report\n",
    "print(classification_report(y_true, y_predict))\n",
    "\n",
    "# Plot confusion matrix\n",
    "cm = confusion_matrix(y_true, y_predict)\n",
    "f, ax = plt.subplots(figsize=(5, 5))\n",
    "sns.heatmap(cm, annot=True, linewidth=0.5, linecolor=\"red\", fmt=\".0f\", ax=ax)\n",
    "plt.xlabel(\"y_pred\")\n",
    "plt.ylabel(\"y_true\")\n",
    "plt.show()"
   ]
  },
  {
   "cell_type": "code",
   "execution_count": 60,
   "id": "5cdc3449-f35f-48c1-90fd-0f79a73f380b",
   "metadata": {},
   "outputs": [],
   "source": [
    "xg_train=xg.predict(X_train)\n",
    "xg_test=xg.predict(X_test)"
   ]
  },
  {
   "cell_type": "code",
   "execution_count": 63,
   "id": "723d46d1-f681-4734-a4d5-d41e5fffea67",
   "metadata": {},
   "outputs": [
    {
     "name": "stdout",
     "output_type": "stream",
     "text": [
      "Model saved successfully.\n"
     ]
    }
   ],
   "source": [
    "import joblib\n",
    "\n",
    "# Assuming 'xgb_model' is your trained XGBoost model\n",
    "# Save the model to a file\n",
    "joblib.dump(xg, 'xgboost_model(99%).pkl')\n",
    "\n",
    "print(\"Model saved successfully.\")\n"
   ]
  },
  {
   "cell_type": "markdown",
   "id": "f79d731d-2b86-45b9-986a-66e45d84135a",
   "metadata": {},
   "source": [
    "###Stacking model construction (ensemble for 4 base learners)"
   ]
  },
  {
   "cell_type": "code",
   "execution_count": 61,
   "id": "17b95fcf-73bc-4db8-a320-489f7c795b3b",
   "metadata": {},
   "outputs": [
    {
     "data": {
      "text/html": [
       "<div>\n",
       "<style scoped>\n",
       "    .dataframe tbody tr th:only-of-type {\n",
       "        vertical-align: middle;\n",
       "    }\n",
       "\n",
       "    .dataframe tbody tr th {\n",
       "        vertical-align: top;\n",
       "    }\n",
       "\n",
       "    .dataframe thead th {\n",
       "        text-align: right;\n",
       "    }\n",
       "</style>\n",
       "<table border=\"1\" class=\"dataframe\">\n",
       "  <thead>\n",
       "    <tr style=\"text-align: right;\">\n",
       "      <th></th>\n",
       "      <th>DecisionTree</th>\n",
       "      <th>RandomForest</th>\n",
       "      <th>ExtraTrees</th>\n",
       "      <th>XgBoost</th>\n",
       "    </tr>\n",
       "  </thead>\n",
       "  <tbody>\n",
       "    <tr>\n",
       "      <th>0</th>\n",
       "      <td>5</td>\n",
       "      <td>5</td>\n",
       "      <td>5</td>\n",
       "      <td>5</td>\n",
       "    </tr>\n",
       "    <tr>\n",
       "      <th>1</th>\n",
       "      <td>0</td>\n",
       "      <td>0</td>\n",
       "      <td>0</td>\n",
       "      <td>3</td>\n",
       "    </tr>\n",
       "    <tr>\n",
       "      <th>2</th>\n",
       "      <td>2</td>\n",
       "      <td>2</td>\n",
       "      <td>2</td>\n",
       "      <td>2</td>\n",
       "    </tr>\n",
       "    <tr>\n",
       "      <th>3</th>\n",
       "      <td>1</td>\n",
       "      <td>1</td>\n",
       "      <td>1</td>\n",
       "      <td>1</td>\n",
       "    </tr>\n",
       "    <tr>\n",
       "      <th>4</th>\n",
       "      <td>0</td>\n",
       "      <td>0</td>\n",
       "      <td>0</td>\n",
       "      <td>0</td>\n",
       "    </tr>\n",
       "  </tbody>\n",
       "</table>\n",
       "</div>"
      ],
      "text/plain": [
       "   DecisionTree  RandomForest  ExtraTrees  XgBoost\n",
       "0             5             5           5        5\n",
       "1             0             0           0        3\n",
       "2             2             2           2        2\n",
       "3             1             1           1        1\n",
       "4             0             0           0        0"
      ]
     },
     "execution_count": 61,
     "metadata": {},
     "output_type": "execute_result"
    }
   ],
   "source": [
    "# Use the outputs of 4 base models to construct a new ensemble model\n",
    "base_predictions_train = pd.DataFrame( {\n",
    "    'DecisionTree': dt_train.ravel(),\n",
    "        'RandomForest': rf_train.ravel(),\n",
    "     'ExtraTrees': et_train.ravel(),\n",
    "     'XgBoost': xg_train.ravel(),\n",
    "    })\n",
    "base_predictions_train.head(5)"
   ]
  },
  {
   "cell_type": "code",
   "execution_count": null,
   "id": "ffd15822-b9a5-4e00-91dd-2373e3b3bf06",
   "metadata": {},
   "outputs": [],
   "source": [
    "\n"
   ]
  }
 ],
 "metadata": {
  "kernelspec": {
   "display_name": "Python 3 (ipykernel)",
   "language": "python",
   "name": "python3"
  },
  "language_info": {
   "codemirror_mode": {
    "name": "ipython",
    "version": 3
   },
   "file_extension": ".py",
   "mimetype": "text/x-python",
   "name": "python",
   "nbconvert_exporter": "python",
   "pygments_lexer": "ipython3",
   "version": "3.12.2"
  }
 },
 "nbformat": 4,
 "nbformat_minor": 5
}
